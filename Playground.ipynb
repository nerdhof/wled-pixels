{
 "cells": [
  {
   "cell_type": "code",
   "execution_count": 1,
   "id": "17dc8fe0-ee27-4a0b-96a8-877fd66a48ac",
   "metadata": {},
   "outputs": [],
   "source": [
    "import numpy as np\n",
    "import numba as nb\n",
    "\n",
    "import time\n",
    "import matplotlib.pyplot as plt\n",
    "import socket\n",
    "\n",
    "from IPython import display"
   ]
  },
  {
   "cell_type": "code",
   "execution_count": 2,
   "id": "19684746-0b9f-482a-809e-5291bca1c2a7",
   "metadata": {},
   "outputs": [
    {
     "data": {
      "text/plain": [
       "(18, 18, 3)"
      ]
     },
     "execution_count": 2,
     "metadata": {},
     "output_type": "execute_result"
    }
   ],
   "source": [
    "hx = hy = 18\n",
    "\n",
    "buffer = np.zeros((hx, hy, 3), dtype='uint8')\n",
    "buffer.shape"
   ]
  },
  {
   "cell_type": "code",
   "execution_count": 5,
   "id": "3a7696bc-209c-4d0f-977d-c01e49373de6",
   "metadata": {},
   "outputs": [],
   "source": [
    "offset = hx * (hy // 2)\n",
    "\n",
    "packet_1 = np.concatenate([np.array([0x04, 0xff, 0x00, 0x00], dtype='uint8'), \n",
    "                           np.zeros(offset * 3 , dtype='uint8')])\n",
    "packet_2 = np.concatenate([np.array([0x04, 0xff, offset // 256,  offset  % 256], dtype='uint8'), \n",
    "                           np.zeros(offset * 3 , dtype='uint8')])"
   ]
  },
  {
   "cell_type": "code",
   "execution_count": 6,
   "id": "c456fd3f-410a-4518-9b3c-1e3f5d60eca8",
   "metadata": {},
   "outputs": [
    {
     "data": {
      "text/plain": [
       "384"
      ]
     },
     "execution_count": 6,
     "metadata": {},
     "output_type": "execute_result"
    }
   ],
   "source": [
    "16 * 16 * 3  // 2"
   ]
  },
  {
   "cell_type": "code",
   "execution_count": 24,
   "id": "693ca091-28ee-4c3b-ab1f-ac0269fe3a0f",
   "metadata": {},
   "outputs": [],
   "source": [
    "@nb.njit\n",
    "def effect(buffer, t):\n",
    "    for x in range(hx):\n",
    "        for y in range(hy):\n",
    "            dx = x / (hx)\n",
    "            dy = y / (hy)\n",
    "            \n",
    "            buffer[x,y,0] = np.cos( dx * 2 + dy ** 2 * 6 + t) * 256 + 128\n",
    "            buffer[x,y,1] = np.sin( dx * 4 + np.cos(t) ) * np.cos( (dy + np.sin(t)) * 3 ) * np.sin(t * 2) * 256 + 128\n",
    "            buffer[x,y,2] = np.sin( dx ** 3 * 6 * np.cos(t) + dy * 4 + t * 3) * 256 + 128"
   ]
  },
  {
   "cell_type": "code",
   "execution_count": 45,
   "id": "8d03e268-f03e-4d74-b5f5-d6499c2113ff",
   "metadata": {},
   "outputs": [
    {
     "data": {
      "image/png": "[encoded data removed]",
      "text/plain": [
       "<Figure size 640x480 with 1 Axes>"
      ]
     },
     "metadata": {},
     "output_type": "display_data"
    }
   ],
   "source": [
    "# Preview\n",
    "for _ in range(100):\n",
    "    t = time.time()\n",
    "\n",
    "    effect(buffer, t)\n",
    "    \n",
    "    p = plt.imshow(buffer)\n",
    "    display.clear_output(wait=True)\n",
    "    plt.show(p)\n",
    "    time.sleep(.02)"
   ]
  },
  {
   "cell_type": "code",
   "execution_count": 51,
   "id": "fcaaf059-6dc4-48a9-a3c4-a1a614d60167",
   "metadata": {},
   "outputs": [],
   "source": [
    "IP = '192.168.2.219'\n",
    "#IP = '192.168.2.203'\n",
    "\n",
    "PORT = 21324\n",
    "sock = socket.socket(socket.AF_INET, socket.SOCK_DGRAM)"
   ]
  },
  {
   "cell_type": "code",
   "execution_count": null,
   "id": "85ccc39d-3a2d-486a-85e8-dab7e9136cd6",
   "metadata": {},
   "outputs": [
    {
     "name": "stdout",
     "output_type": "stream",
     "text": [
      "106 0.022758960723876953 06959, fr=100 \n",
      "sending rate=71.71640798309572, fr=9700 \r"
     ]
    }
   ],
   "source": [
    "# Real loop\n",
    "n = 0\n",
    "t0 = time.time()\n",
    "\n",
    "while True:\n",
    "    n+=1\n",
    "    t = time.time()\n",
    "    effect(buffer, t)\n",
    "    \n",
    "    if not n % 100:\n",
    "        rate = 100 / (t - t0)\n",
    "        t0 = time.time()\n",
    "        print(f'sending rate={rate}, fr={n} ', end='\\r', flush=True)\n",
    "\n",
    "    packet_1[4:] = buffer[:hy//2, :, :].flatten()\n",
    "    packet_2[4:] = buffer[hy//2:, :, :].flatten()\n",
    "\n",
    "    sock.sendto(packet_1.data, (IP, PORT))\n",
    "    sock.sendto(packet_2.data, (IP, PORT))\n",
    "\n",
    "    diff = time.time() - t\n",
    "    if diff > .01:\n",
    "        print(n, diff, '')\n",
    "        \n",
    "    if diff < .012:\n",
    "        time.sleep(0.012 - diff)"
   ]
  },
  {
   "cell_type": "code",
   "execution_count": null,
   "id": "1ce21e84-2dd0-499b-9313-fde0e13e37d4",
   "metadata": {},
   "outputs": [],
   "source": [
    "786 * 3"
   ]
  },
  {
   "cell_type": "code",
   "execution_count": null,
   "id": "e917ba49-f504-4330-be53-f998b34d2d0a",
   "metadata": {},
   "outputs": [],
   "source": []
  }
 ],
 "metadata": {
  "kernelspec": {
   "display_name": "Python 3 (ipykernel)",
   "language": "python",
   "name": "python3"
  },
  "language_info": {
   "codemirror_mode": {
    "name": "ipython",
    "version": 3
   },
   "file_extension": ".py",
   "mimetype": "text/x-python",
   "name": "python",
   "nbconvert_exporter": "python",
   "pygments_lexer": "ipython3",
   "version": "3.11.6"
  }
 },
 "nbformat": 4,
 "nbformat_minor": 5
}
