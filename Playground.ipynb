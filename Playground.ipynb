{
 "cells": [
  {
   "cell_type": "code",
   "execution_count": 1,
   "id": "17dc8fe0-ee27-4a0b-96a8-877fd66a48ac",
   "metadata": {},
   "outputs": [],
   "source": [
    "import numpy as np\n",
    "import numba as nb\n",
    "\n",
    "import time\n",
    "import matplotlib.pyplot as plt\n",
    "import socket\n",
    "\n",
    "from IPython import display"
   ]
  },
  {
   "cell_type": "code",
   "execution_count": 18,
   "id": "19684746-0b9f-482a-809e-5291bca1c2a7",
   "metadata": {},
   "outputs": [
    {
     "data": {
      "text/plain": [
       "(18, 18, 3)"
      ]
     },
     "execution_count": 18,
     "metadata": {},
     "output_type": "execute_result"
    }
   ],
   "source": [
    "hx = 18\n",
    "hy = 18\n",
    "\n",
    "buffer = np.zeros((hx, hy, 3), dtype='uint8')\n",
    "buffer.shape"
   ]
  },
  {
   "cell_type": "code",
   "execution_count": 19,
   "id": "3a7696bc-209c-4d0f-977d-c01e49373de6",
   "metadata": {},
   "outputs": [],
   "source": [
    "offset = hx * (hy // 2)\n",
    "\n",
    "packet_1 = np.concatenate([np.array([0x04, 0xff, 0x00, 0x00], dtype='uint8'), \n",
    "                           np.zeros(offset * 3 , dtype='uint8')])\n",
    "packet_2 = np.concatenate([np.array([0x04, 0xff, offset // 256,  offset  % 256], dtype='uint8'), \n",
    "                           np.zeros(offset * 3 , dtype='uint8')])"
   ]
  },
  {
   "cell_type": "code",
   "execution_count": 20,
   "id": "693ca091-28ee-4c3b-ab1f-ac0269fe3a0f",
   "metadata": {},
   "outputs": [],
   "source": [
    "@nb.njit\n",
    "def effect(buffer, t):\n",
    "    for x in range(hx):\n",
    "        for y in range(hy):\n",
    "            dx = x / hx * 1.2\n",
    "            dy = y / hy * 1.2\n",
    "            buffer[x,y,0] = np.cos( dx * 2 + dy ** 2 * 6 + t) * 128 + 128\n",
    "            buffer[x,y,1] = np.sin( dx * 3 + np.cos(t*1.42) ) * np.cos( (dy + np.sin(t*1.23)) * 4 ) * np.sin(t * 2.13) * 128 + 128\n",
    "            buffer[x,y,2] = np.sin( dx ** 3 * 6 * np.cos(t*1.111) + dy * 4 + t * 3) * 128 + 128"
   ]
  },
  {
   "cell_type": "code",
   "execution_count": 22,
   "id": "8d03e268-f03e-4d74-b5f5-d6499c2113ff",
   "metadata": {},
   "outputs": [
    {
     "data": {
      "image/png": "[encoded data removed]",
      "text/plain": [
       "<Figure size 640x480 with 1 Axes>"
      ]
     },
     "metadata": {},
     "output_type": "display_data"
    }
   ],
   "source": [
    "# Preview\n",
    "for _ in range(100):\n",
    "    t = time.time()\n",
    "\n",
    "    effect(buffer, t)\n",
    "    \n",
    "    p = plt.imshow(np.swapaxes(buffer, 0, 1))\n",
    "    display.clear_output(wait=True)\n",
    "    plt.show(p)\n",
    "    time.sleep(.012)"
   ]
  },
  {
   "cell_type": "code",
   "execution_count": 23,
   "id": "fcaaf059-6dc4-48a9-a3c4-a1a614d60167",
   "metadata": {},
   "outputs": [],
   "source": [
    "IP = '192.168.2.219'\n",
    "#IP = '192.168.2.203'\n",
    "\n",
    "PORT = 21324\n",
    "sock = socket.socket(socket.AF_INET, socket.SOCK_DGRAM)"
   ]
  },
  {
   "cell_type": "code",
   "execution_count": 24,
   "id": "85ccc39d-3a2d-486a-85e8-dab7e9136cd6",
   "metadata": {},
   "outputs": [
    {
     "name": "stdout",
     "output_type": "stream",
     "text": [
      "[Errno 64] Host is down\n"
     ]
    },
    {
     "ename": "KeyboardInterrupt",
     "evalue": "",
     "output_type": "error",
     "traceback": [
      "\u001b[0;31m---------------------------------------------------------------------------\u001b[0m",
      "\u001b[0;31mOSError\u001b[0m                                   Traceback (most recent call last)",
      "Cell \u001b[0;32mIn[24], line 26\u001b[0m\n\u001b[1;32m     25\u001b[0m \u001b[38;5;28;01mtry\u001b[39;00m:\n\u001b[0;32m---> 26\u001b[0m     \u001b[43msock\u001b[49m\u001b[38;5;241;43m.\u001b[39;49m\u001b[43msendto\u001b[49m\u001b[43m(\u001b[49m\u001b[43mpacket_1\u001b[49m\u001b[38;5;241;43m.\u001b[39;49m\u001b[43mdata\u001b[49m\u001b[43m,\u001b[49m\u001b[43m \u001b[49m\u001b[43m(\u001b[49m\u001b[43mIP\u001b[49m\u001b[43m,\u001b[49m\u001b[43m \u001b[49m\u001b[43mPORT\u001b[49m\u001b[43m)\u001b[49m\u001b[43m)\u001b[49m\n\u001b[1;32m     27\u001b[0m     sock\u001b[38;5;241m.\u001b[39msendto(packet_2\u001b[38;5;241m.\u001b[39mdata, (IP, PORT))\n",
      "\u001b[0;31mOSError\u001b[0m: [Errno 64] Host is down",
      "\nDuring handling of the above exception, another exception occurred:\n",
      "\u001b[0;31mKeyboardInterrupt\u001b[0m                         Traceback (most recent call last)",
      "Cell \u001b[0;32mIn[24], line 30\u001b[0m\n\u001b[1;32m     28\u001b[0m \u001b[38;5;28;01mexcept\u001b[39;00m \u001b[38;5;167;01mOSError\u001b[39;00m \u001b[38;5;28;01mas\u001b[39;00m e:\n\u001b[1;32m     29\u001b[0m     \u001b[38;5;28mprint\u001b[39m(e)\n\u001b[0;32m---> 30\u001b[0m     \u001b[43mtime\u001b[49m\u001b[38;5;241;43m.\u001b[39;49m\u001b[43msleep\u001b[49m\u001b[43m(\u001b[49m\u001b[38;5;241;43m10\u001b[39;49m\u001b[43m)\u001b[49m\n\u001b[1;32m     32\u001b[0m diff \u001b[38;5;241m=\u001b[39m time\u001b[38;5;241m.\u001b[39mtime() \u001b[38;5;241m-\u001b[39m t\n\u001b[1;32m     33\u001b[0m dtotal \u001b[38;5;241m+\u001b[39m\u001b[38;5;241m=\u001b[39m diff\n",
      "\u001b[0;31mKeyboardInterrupt\u001b[0m: "
     ]
    }
   ],
   "source": [
    "# Real loop\n",
    "n = 0\n",
    "t0 = time.time()\n",
    "dtotal = 0\n",
    "dmin = 10\n",
    "dmax = 0\n",
    "\n",
    "while True:\n",
    "    t = time.time()\n",
    "    \n",
    "    n+=1\n",
    "    effect(buffer, t)\n",
    "    \n",
    "    if not n % 100:\n",
    "        rate = 100 / (t - t0)\n",
    "        t0 = time.time()\n",
    "        print(f'sending rate={rate:.2f}, delay={dmin:.5f}..{dtotal/100:.5f}..{dmax:.5f}, fr={n} ', end='\\r', flush=True)\n",
    "        dtotal = 0\n",
    "        dmin = 10\n",
    "        dmax = 0\n",
    "\n",
    "    packet_1[4:] = buffer[:hy//2, :, :].ravel()\n",
    "    packet_2[4:] = buffer[hy//2:, :, :].ravel()\n",
    "\n",
    "    try:\n",
    "        sock.sendto(packet_1.data, (IP, PORT))\n",
    "        sock.sendto(packet_2.data, (IP, PORT))\n",
    "    except OSError as e:\n",
    "        print(e)\n",
    "        time.sleep(10)\n",
    "    \n",
    "    diff = time.time() - t\n",
    "    dtotal += diff\n",
    "    dmin = min(dmin, diff)\n",
    "    dmax = max(dmax, diff)\n",
    "    \n",
    "    if diff > .02:\n",
    "        print(n, diff, '')\n",
    "        \n",
    "    if diff < .02:\n",
    "        time.sleep(.02 - diff)"
   ]
  },
  {
   "cell_type": "code",
   "execution_count": null,
   "id": "d87aa374-8ce7-4d3b-a90c-d0f11c131eea",
   "metadata": {},
   "outputs": [],
   "source": []
  }
 ],
 "metadata": {
  "kernelspec": {
   "display_name": "Python 3 (ipykernel)",
   "language": "python",
   "name": "python3"
  },
  "language_info": {
   "codemirror_mode": {
    "name": "ipython",
    "version": 3
   },
   "file_extension": ".py",
   "mimetype": "text/x-python",
   "name": "python",
   "nbconvert_exporter": "python",
   "pygments_lexer": "ipython3",
   "version": "3.11.6"
  }
 },
 "nbformat": 4,
 "nbformat_minor": 5
}
